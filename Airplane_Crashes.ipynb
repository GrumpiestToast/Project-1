{
 "cells": [
  {
   "cell_type": "code",
   "execution_count": 103,
   "metadata": {},
   "outputs": [],
   "source": [
    "import csv\n",
    "import pandas as pd\n",
    "import matplotlib.pyplot as plt\n",
    "import numpy as np\n",
    "from datetime import date, timedelta, datetime"
   ]
  },
  {
   "cell_type": "code",
   "execution_count": 15,
   "metadata": {},
   "outputs": [],
   "source": [
    "file = \"C:/Users/Ryan/Desktop/airplane_crashes_and_fatalities_since_1908.csv\"\n",
    "df = pd.read_csv(file)"
   ]
  },
  {
   "cell_type": "code",
   "execution_count": 16,
   "metadata": {},
   "outputs": [
    {
     "data": {
      "text/html": [
       "<div>\n",
       "<style scoped>\n",
       "    .dataframe tbody tr th:only-of-type {\n",
       "        vertical-align: middle;\n",
       "    }\n",
       "\n",
       "    .dataframe tbody tr th {\n",
       "        vertical-align: top;\n",
       "    }\n",
       "\n",
       "    .dataframe thead th {\n",
       "        text-align: right;\n",
       "    }\n",
       "</style>\n",
       "<table border=\"1\" class=\"dataframe\">\n",
       "  <thead>\n",
       "    <tr style=\"text-align: right;\">\n",
       "      <th></th>\n",
       "      <th>Date</th>\n",
       "      <th>Time</th>\n",
       "      <th>Location</th>\n",
       "      <th>Operator</th>\n",
       "      <th>Flight #</th>\n",
       "      <th>Route</th>\n",
       "      <th>Type</th>\n",
       "      <th>Registration</th>\n",
       "      <th>cn/In</th>\n",
       "      <th>Aboard</th>\n",
       "      <th>Fatalities</th>\n",
       "      <th>Ground</th>\n",
       "      <th>Summary</th>\n",
       "    </tr>\n",
       "  </thead>\n",
       "  <tbody>\n",
       "    <tr>\n",
       "      <th>0</th>\n",
       "      <td>09/17/1908</td>\n",
       "      <td>17:18</td>\n",
       "      <td>Fort Myer, Virginia</td>\n",
       "      <td>Military - U.S. Army</td>\n",
       "      <td>NaN</td>\n",
       "      <td>Demonstration</td>\n",
       "      <td>Wright Flyer III</td>\n",
       "      <td>NaN</td>\n",
       "      <td>1</td>\n",
       "      <td>2.0</td>\n",
       "      <td>1.0</td>\n",
       "      <td>0.0</td>\n",
       "      <td>During a demonstration flight, a U.S. Army fly...</td>\n",
       "    </tr>\n",
       "    <tr>\n",
       "      <th>1</th>\n",
       "      <td>07/12/1912</td>\n",
       "      <td>06:30</td>\n",
       "      <td>AtlantiCity, New Jersey</td>\n",
       "      <td>Military - U.S. Navy</td>\n",
       "      <td>NaN</td>\n",
       "      <td>Test flight</td>\n",
       "      <td>Dirigible</td>\n",
       "      <td>NaN</td>\n",
       "      <td>NaN</td>\n",
       "      <td>5.0</td>\n",
       "      <td>5.0</td>\n",
       "      <td>0.0</td>\n",
       "      <td>First U.S. dirigible Akron exploded just offsh...</td>\n",
       "    </tr>\n",
       "    <tr>\n",
       "      <th>2</th>\n",
       "      <td>08/06/1913</td>\n",
       "      <td>NaN</td>\n",
       "      <td>Victoria, British Columbia, Canada</td>\n",
       "      <td>Private</td>\n",
       "      <td>-</td>\n",
       "      <td>NaN</td>\n",
       "      <td>Curtiss seaplane</td>\n",
       "      <td>NaN</td>\n",
       "      <td>NaN</td>\n",
       "      <td>1.0</td>\n",
       "      <td>1.0</td>\n",
       "      <td>0.0</td>\n",
       "      <td>The first fatal airplane accident in Canada oc...</td>\n",
       "    </tr>\n",
       "    <tr>\n",
       "      <th>3</th>\n",
       "      <td>09/09/1913</td>\n",
       "      <td>18:30</td>\n",
       "      <td>Over the North Sea</td>\n",
       "      <td>Military - German Navy</td>\n",
       "      <td>NaN</td>\n",
       "      <td>NaN</td>\n",
       "      <td>Zeppelin L-1 (airship)</td>\n",
       "      <td>NaN</td>\n",
       "      <td>NaN</td>\n",
       "      <td>20.0</td>\n",
       "      <td>14.0</td>\n",
       "      <td>0.0</td>\n",
       "      <td>The airship flew into a thunderstorm and encou...</td>\n",
       "    </tr>\n",
       "    <tr>\n",
       "      <th>4</th>\n",
       "      <td>10/17/1913</td>\n",
       "      <td>10:30</td>\n",
       "      <td>Near Johannisthal, Germany</td>\n",
       "      <td>Military - German Navy</td>\n",
       "      <td>NaN</td>\n",
       "      <td>NaN</td>\n",
       "      <td>Zeppelin L-2 (airship)</td>\n",
       "      <td>NaN</td>\n",
       "      <td>NaN</td>\n",
       "      <td>30.0</td>\n",
       "      <td>30.0</td>\n",
       "      <td>0.0</td>\n",
       "      <td>Hydrogen gas which was being vented was sucked...</td>\n",
       "    </tr>\n",
       "  </tbody>\n",
       "</table>\n",
       "</div>"
      ],
      "text/plain": [
       "         Date   Time                            Location  \\\n",
       "0  09/17/1908  17:18                 Fort Myer, Virginia   \n",
       "1  07/12/1912  06:30             AtlantiCity, New Jersey   \n",
       "2  08/06/1913    NaN  Victoria, British Columbia, Canada   \n",
       "3  09/09/1913  18:30                  Over the North Sea   \n",
       "4  10/17/1913  10:30          Near Johannisthal, Germany   \n",
       "\n",
       "                 Operator Flight #          Route                    Type  \\\n",
       "0    Military - U.S. Army      NaN  Demonstration        Wright Flyer III   \n",
       "1    Military - U.S. Navy      NaN    Test flight               Dirigible   \n",
       "2                 Private        -            NaN        Curtiss seaplane   \n",
       "3  Military - German Navy      NaN            NaN  Zeppelin L-1 (airship)   \n",
       "4  Military - German Navy      NaN            NaN  Zeppelin L-2 (airship)   \n",
       "\n",
       "  Registration cn/In  Aboard  Fatalities  Ground  \\\n",
       "0          NaN     1     2.0         1.0     0.0   \n",
       "1          NaN   NaN     5.0         5.0     0.0   \n",
       "2          NaN   NaN     1.0         1.0     0.0   \n",
       "3          NaN   NaN    20.0        14.0     0.0   \n",
       "4          NaN   NaN    30.0        30.0     0.0   \n",
       "\n",
       "                                             Summary  \n",
       "0  During a demonstration flight, a U.S. Army fly...  \n",
       "1  First U.S. dirigible Akron exploded just offsh...  \n",
       "2  The first fatal airplane accident in Canada oc...  \n",
       "3  The airship flew into a thunderstorm and encou...  \n",
       "4  Hydrogen gas which was being vented was sucked...  "
      ]
     },
     "execution_count": 16,
     "metadata": {},
     "output_type": "execute_result"
    }
   ],
   "source": [
    "df.head()\n"
   ]
  },
  {
   "cell_type": "code",
   "execution_count": 11,
   "metadata": {},
   "outputs": [
    {
     "data": {
      "text/plain": [
       "(5268, 13)"
      ]
     },
     "execution_count": 11,
     "metadata": {},
     "output_type": "execute_result"
    }
   ],
   "source": [
    "df.shape"
   ]
  },
  {
   "cell_type": "code",
   "execution_count": 13,
   "metadata": {},
   "outputs": [
    {
     "data": {
      "text/plain": [
       "Date             object\n",
       "Time             object\n",
       "Location         object\n",
       "Operator         object\n",
       "Flight #         object\n",
       "Route            object\n",
       "Type             object\n",
       "Registration     object\n",
       "cn/In            object\n",
       "Aboard          float64\n",
       "Fatalities      float64\n",
       "Ground          float64\n",
       "Summary          object\n",
       "dtype: object"
      ]
     },
     "execution_count": 13,
     "metadata": {},
     "output_type": "execute_result"
    }
   ],
   "source": [
    "df.dtypes"
   ]
  },
  {
   "cell_type": "code",
   "execution_count": 18,
   "metadata": {},
   "outputs": [
    {
     "data": {
      "text/plain": [
       "Date               0\n",
       "Time            2219\n",
       "Location          20\n",
       "Operator          18\n",
       "Flight #        4199\n",
       "Route           1706\n",
       "Type              27\n",
       "Registration     335\n",
       "cn/In           1228\n",
       "Aboard            22\n",
       "Fatalities        12\n",
       "Ground            22\n",
       "Summary          390\n",
       "dtype: int64"
      ]
     },
     "execution_count": 18,
     "metadata": {},
     "output_type": "execute_result"
    }
   ],
   "source": [
    "df.isnull().sum()"
   ]
  },
  {
   "cell_type": "code",
   "execution_count": null,
   "metadata": {},
   "outputs": [],
   "source": [
    "\n"
   ]
  },
  {
   "cell_type": "code",
   "execution_count": 125,
   "metadata": {},
   "outputs": [],
   "source": [
    "#Clean up time \n",
    "df[\"Time\"] = df[\"Time\"].replace(np.nan, \"Unknown\") \n",
    "df[\"Time\"] = df[\"Time\"].str.replace(\"114:20:00\", \"Unknown\")\n",
    "df[\"Time\"] = df[\"Time\"].str.replace(\"18.40\", \"18:40\")\n",
    "df[\"Time\"] = df[\"Time\"].str.replace(\"0943\", \"09:43\")\n",
    "df[\"Time\"] = df[\"Time\"].str.replace(\"12\\'20\", \"12:20\")\n",
    "df[\"Time\"] = df[\"Time\"].str.replace(\"22\\'08\", \"22:08\")\n",
    "df[\"Time\"] = df[\"Time\"].str.replace(\"c: \", \"\")\n",
    "df[\"Time\"] = df[\"Time\"].str.replace(\"c:\", \"\")\n",
    "df[\"Time\"] = df[\"Time\"].str.replace(\"c\", \"\")\n",
    "\n",
    "#Match upper/lower case formats\n",
    "df = df.applymap(lambda s:s.upper() if type(s) == str else s)\n",
    "\n",
    "#Create new columns for month, day, year, hour, and minute\n",
    "    \n",
    "df['Date']=pd.to_datetime(df['Date'])\n",
    "df['Day'] = df['Date'].map(lambda x: x.day)\n",
    "df['Year'] = df['Date'].map(lambda x: x.year)\n",
    "df['Month'] = df['Date'].map(lambda x: x.month)\n",
    "\n",
    "#Convert Time into date_time format so I can pull hour or minute individually\n",
    "\n",
    "df['Time'] = pd.to_datetime( df['Time'], format='H%:M%', errors = \"ignore\")\n",
    "df['Date'] = pd.to_datetime(df['Date'], format='Y%:m%:D%', errors = 'ignore')\n",
    "\n",
    "    "
   ]
  },
  {
   "cell_type": "code",
   "execution_count": 126,
   "metadata": {},
   "outputs": [
    {
     "data": {
      "text/html": [
       "<div>\n",
       "<style scoped>\n",
       "    .dataframe tbody tr th:only-of-type {\n",
       "        vertical-align: middle;\n",
       "    }\n",
       "\n",
       "    .dataframe tbody tr th {\n",
       "        vertical-align: top;\n",
       "    }\n",
       "\n",
       "    .dataframe thead th {\n",
       "        text-align: right;\n",
       "    }\n",
       "</style>\n",
       "<table border=\"1\" class=\"dataframe\">\n",
       "  <thead>\n",
       "    <tr style=\"text-align: right;\">\n",
       "      <th></th>\n",
       "      <th>Date</th>\n",
       "      <th>Time</th>\n",
       "      <th>Location</th>\n",
       "      <th>Operator</th>\n",
       "      <th>Flight #</th>\n",
       "      <th>Route</th>\n",
       "      <th>Type</th>\n",
       "      <th>Registration</th>\n",
       "      <th>cn/In</th>\n",
       "      <th>Aboard</th>\n",
       "      <th>Fatalities</th>\n",
       "      <th>Ground</th>\n",
       "      <th>Summary</th>\n",
       "      <th>Day</th>\n",
       "      <th>Year</th>\n",
       "      <th>Month</th>\n",
       "    </tr>\n",
       "  </thead>\n",
       "  <tbody>\n",
       "    <tr>\n",
       "      <th>0</th>\n",
       "      <td>1908-09-17</td>\n",
       "      <td>17:18</td>\n",
       "      <td>FORT MYER, VIRGINIA</td>\n",
       "      <td>MILITARY - U.S. ARMY</td>\n",
       "      <td>NaN</td>\n",
       "      <td>DEMONSTRATION</td>\n",
       "      <td>WRIGHT FLYER III</td>\n",
       "      <td>NaN</td>\n",
       "      <td>1</td>\n",
       "      <td>2.0</td>\n",
       "      <td>1.0</td>\n",
       "      <td>0.0</td>\n",
       "      <td>DURING A DEMONSTRATION FLIGHT, A U.S. ARMY FLY...</td>\n",
       "      <td>17</td>\n",
       "      <td>1908</td>\n",
       "      <td>9</td>\n",
       "    </tr>\n",
       "    <tr>\n",
       "      <th>1</th>\n",
       "      <td>1912-07-12</td>\n",
       "      <td>06:30</td>\n",
       "      <td>ATLANTICITY, NEW JERSEY</td>\n",
       "      <td>MILITARY - U.S. NAVY</td>\n",
       "      <td>NaN</td>\n",
       "      <td>TEST FLIGHT</td>\n",
       "      <td>DIRIGIBLE</td>\n",
       "      <td>NaN</td>\n",
       "      <td>NaN</td>\n",
       "      <td>5.0</td>\n",
       "      <td>5.0</td>\n",
       "      <td>0.0</td>\n",
       "      <td>FIRST U.S. DIRIGIBLE AKRON EXPLODED JUST OFFSH...</td>\n",
       "      <td>12</td>\n",
       "      <td>1912</td>\n",
       "      <td>7</td>\n",
       "    </tr>\n",
       "    <tr>\n",
       "      <th>2</th>\n",
       "      <td>1913-08-06</td>\n",
       "      <td>UNKNOWN</td>\n",
       "      <td>VICTORIA, BRITISH COLUMBIA, CANADA</td>\n",
       "      <td>PRIVATE</td>\n",
       "      <td>-</td>\n",
       "      <td>NaN</td>\n",
       "      <td>CURTISS SEAPLANE</td>\n",
       "      <td>NaN</td>\n",
       "      <td>NaN</td>\n",
       "      <td>1.0</td>\n",
       "      <td>1.0</td>\n",
       "      <td>0.0</td>\n",
       "      <td>THE FIRST FATAL AIRPLANE ACCIDENT IN CANADA OC...</td>\n",
       "      <td>6</td>\n",
       "      <td>1913</td>\n",
       "      <td>8</td>\n",
       "    </tr>\n",
       "    <tr>\n",
       "      <th>3</th>\n",
       "      <td>1913-09-09</td>\n",
       "      <td>18:30</td>\n",
       "      <td>OVER THE NORTH SEA</td>\n",
       "      <td>MILITARY - GERMAN NAVY</td>\n",
       "      <td>NaN</td>\n",
       "      <td>NaN</td>\n",
       "      <td>ZEPPELIN L-1 (AIRSHIP)</td>\n",
       "      <td>NaN</td>\n",
       "      <td>NaN</td>\n",
       "      <td>20.0</td>\n",
       "      <td>14.0</td>\n",
       "      <td>0.0</td>\n",
       "      <td>THE AIRSHIP FLEW INTO A THUNDERSTORM AND ENCOU...</td>\n",
       "      <td>9</td>\n",
       "      <td>1913</td>\n",
       "      <td>9</td>\n",
       "    </tr>\n",
       "    <tr>\n",
       "      <th>4</th>\n",
       "      <td>1913-10-17</td>\n",
       "      <td>10:30</td>\n",
       "      <td>NEAR JOHANNISTHAL, GERMANY</td>\n",
       "      <td>MILITARY - GERMAN NAVY</td>\n",
       "      <td>NaN</td>\n",
       "      <td>NaN</td>\n",
       "      <td>ZEPPELIN L-2 (AIRSHIP)</td>\n",
       "      <td>NaN</td>\n",
       "      <td>NaN</td>\n",
       "      <td>30.0</td>\n",
       "      <td>30.0</td>\n",
       "      <td>0.0</td>\n",
       "      <td>HYDROGEN GAS WHICH WAS BEING VENTED WAS SUCKED...</td>\n",
       "      <td>17</td>\n",
       "      <td>1913</td>\n",
       "      <td>10</td>\n",
       "    </tr>\n",
       "  </tbody>\n",
       "</table>\n",
       "</div>"
      ],
      "text/plain": [
       "        Date     Time                            Location  \\\n",
       "0 1908-09-17    17:18                 FORT MYER, VIRGINIA   \n",
       "1 1912-07-12    06:30             ATLANTICITY, NEW JERSEY   \n",
       "2 1913-08-06  UNKNOWN  VICTORIA, BRITISH COLUMBIA, CANADA   \n",
       "3 1913-09-09    18:30                  OVER THE NORTH SEA   \n",
       "4 1913-10-17    10:30          NEAR JOHANNISTHAL, GERMANY   \n",
       "\n",
       "                 Operator Flight #          Route                    Type  \\\n",
       "0    MILITARY - U.S. ARMY      NaN  DEMONSTRATION        WRIGHT FLYER III   \n",
       "1    MILITARY - U.S. NAVY      NaN    TEST FLIGHT               DIRIGIBLE   \n",
       "2                 PRIVATE        -            NaN        CURTISS SEAPLANE   \n",
       "3  MILITARY - GERMAN NAVY      NaN            NaN  ZEPPELIN L-1 (AIRSHIP)   \n",
       "4  MILITARY - GERMAN NAVY      NaN            NaN  ZEPPELIN L-2 (AIRSHIP)   \n",
       "\n",
       "  Registration cn/In  Aboard  Fatalities  Ground  \\\n",
       "0          NaN     1     2.0         1.0     0.0   \n",
       "1          NaN   NaN     5.0         5.0     0.0   \n",
       "2          NaN   NaN     1.0         1.0     0.0   \n",
       "3          NaN   NaN    20.0        14.0     0.0   \n",
       "4          NaN   NaN    30.0        30.0     0.0   \n",
       "\n",
       "                                             Summary  Day  Year  Month  \n",
       "0  DURING A DEMONSTRATION FLIGHT, A U.S. ARMY FLY...   17  1908      9  \n",
       "1  FIRST U.S. DIRIGIBLE AKRON EXPLODED JUST OFFSH...   12  1912      7  \n",
       "2  THE FIRST FATAL AIRPLANE ACCIDENT IN CANADA OC...    6  1913      8  \n",
       "3  THE AIRSHIP FLEW INTO A THUNDERSTORM AND ENCOU...    9  1913      9  \n",
       "4  HYDROGEN GAS WHICH WAS BEING VENTED WAS SUCKED...   17  1913     10  "
      ]
     },
     "execution_count": 126,
     "metadata": {},
     "output_type": "execute_result"
    }
   ],
   "source": [
    "df.head()"
   ]
  },
  {
   "cell_type": "code",
   "execution_count": 127,
   "metadata": {},
   "outputs": [
    {
     "data": {
      "image/png": "[encoded data removed]",
      "text/plain": [
       "<Figure size 1800x576 with 1 Axes>"
      ]
     },
     "metadata": {},
     "output_type": "display_data"
    }
   ],
   "source": [
    "#Create Bar Chart showing Crashes per year\n",
    "year_crashed = df.groupby(\"Year\")[['Date']].count()\n",
    "year_crashed = year_crashed.rename(columns={\"Date\" : \"Count\"})\n",
    "\n",
    "#Label and format Bar Chart \n",
    "plt.figure(figsize=(25,8))\n",
    "plt.style.use('fivethirtyeight')\n",
    "plt.plot(year_crashed.index, 'Count', data=year_crashed, color='r', marker = \".\", linewidth=1)\n",
    "plt.title('Number of accidents per Year', loc='Center', fontsize=20)\n",
    "plt.ylabel('Count', fontsize=15)\n",
    "plt.xlabel('Year', fontsize=15)\n",
    "plt.show()\n"
   ]
  },
  {
   "cell_type": "code",
   "execution_count": 138,
   "metadata": {},
   "outputs": [
    {
     "data": {
      "text/plain": [
       "Text(0.5, 1.0, 'Count of accidents by Month')"
      ]
     },
     "execution_count": 138,
     "metadata": {},
     "output_type": "execute_result"
    },
    {
     "data": {
      "image/png": "[encoded data removed]",
      "text/plain": [
       "<Figure size 720x360 with 1 Axes>"
      ]
     },
     "metadata": {},
     "output_type": "display_data"
    }
   ],
   "source": [
    "#gs = gridspec.GridSpec(2, 2)\n",
    "plt.figure(figsize=(10,5))\n",
    "plt.style.use('bmh')\n",
    "plt.bar(df.groupby(\"Month\")[['Date']].count().index, 'Date', data=df.groupby(\"Month\")[['Date']].count(), color='b', linewidth=2)\n",
    "plt.xticks(df.groupby(\"Month\")[['Date']].count().index, ['Jan', 'Feb', 'Mar', 'Apr', 'May', 'Jun', 'Jul', 'Aug', 'Sep', 'Oct', 'Nov', 'Dec'])\n",
    "plt.xlabel('Month', fontsize=10)\n",
    "plt.ylabel('Count', fontsize=10)\n",
    "plt.title('Count of accidents by Month', loc='Center', fontsize=16)"
   ]
  },
  {
   "cell_type": "code",
   "execution_count": null,
   "metadata": {},
   "outputs": [],
   "source": []
  },
  {
   "cell_type": "code",
   "execution_count": null,
   "metadata": {},
   "outputs": [],
   "source": []
  },
  {
   "cell_type": "code",
   "execution_count": null,
   "metadata": {},
   "outputs": [],
   "source": []
  },
  {
   "cell_type": "code",
   "execution_count": null,
   "metadata": {},
   "outputs": [],
   "source": []
  },
  {
   "cell_type": "code",
   "execution_count": null,
   "metadata": {},
   "outputs": [],
   "source": []
  },
  {
   "cell_type": "code",
   "execution_count": null,
   "metadata": {},
   "outputs": [],
   "source": []
  },
  {
   "cell_type": "code",
   "execution_count": null,
   "metadata": {},
   "outputs": [],
   "source": []
  },
  {
   "cell_type": "code",
   "execution_count": null,
   "metadata": {},
   "outputs": [],
   "source": []
  },
  {
   "cell_type": "code",
   "execution_count": null,
   "metadata": {},
   "outputs": [],
   "source": []
  }
 ],
 "metadata": {
  "kernelspec": {
   "display_name": "Python 3",
   "language": "python",
   "name": "python3"
  },
  "language_info": {
   "codemirror_mode": {
    "name": "ipython",
    "version": 3
   },
   "file_extension": ".py",
   "mimetype": "text/x-python",
   "name": "python",
   "nbconvert_exporter": "python",
   "pygments_lexer": "ipython3",
   "version": "3.7.1"
  }
 },
 "nbformat": 4,
 "nbformat_minor": 2
}
